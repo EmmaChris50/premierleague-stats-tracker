{
 "cells": [
  {
   "cell_type": "code",
   "execution_count": 58,
   "id": "8e6b3762-b58b-4680-a921-e94cb84d5f7c",
   "metadata": {},
   "outputs": [],
   "source": [
    "import requests\n",
    "import pandas as pd\n",
    "import time"
   ]
  },
  {
   "cell_type": "code",
   "execution_count": 59,
   "id": "7a8b1efb-f0d5-4bf6-99af-e473c9cd8c0d",
   "metadata": {},
   "outputs": [],
   "source": [
    "#from footballdata.org\n",
    "API_TOKEN = \"280e17f7e2524d5c8f85335cee4b38e1\"\n",
    "#280e17f7e2524d5c8f85335cee4b38e1"
   ]
  },
  {
   "cell_type": "code",
   "execution_count": 60,
   "id": "20fa0adb-97c3-4dd7-861d-c85e7540e6c1",
   "metadata": {},
   "outputs": [],
   "source": [
    "headers = {\n",
    "    \"X-Auth-Token\": API_TOKEN\n",
    "}"
   ]
  },
  {
   "cell_type": "code",
   "execution_count": 15,
   "id": "970f0fde-36cc-41a9-9b35-e8e0b4067e53",
   "metadata": {},
   "outputs": [
    {
     "ename": "KeyError",
     "evalue": "'matches'",
     "output_type": "error",
     "traceback": [
      "\u001b[1;31m---------------------------------------------------------------------------\u001b[0m",
      "\u001b[1;31mKeyError\u001b[0m                                  Traceback (most recent call last)",
      "Cell \u001b[1;32mIn[15], line 9\u001b[0m\n\u001b[0;32m      6\u001b[0m     \u001b[38;5;28;01mreturn\u001b[39;00m pd\u001b[38;5;241m.\u001b[39mjson_normalize(matches)\n\u001b[0;32m      8\u001b[0m \u001b[38;5;66;03m# Example: Get Premier League (ID 2021), 2023/24 season\u001b[39;00m\n\u001b[1;32m----> 9\u001b[0m matches_df \u001b[38;5;241m=\u001b[39m get_matches()\n\u001b[0;32m     10\u001b[0m matches_df\u001b[38;5;241m.\u001b[39mhead()\n",
      "Cell \u001b[1;32mIn[15], line 5\u001b[0m, in \u001b[0;36mget_matches\u001b[1;34m(competition_id, season)\u001b[0m\n\u001b[0;32m      3\u001b[0m response \u001b[38;5;241m=\u001b[39m requests\u001b[38;5;241m.\u001b[39mget(url, headers\u001b[38;5;241m=\u001b[39mheaders)\n\u001b[0;32m      4\u001b[0m data \u001b[38;5;241m=\u001b[39m response\u001b[38;5;241m.\u001b[39mjson()\n\u001b[1;32m----> 5\u001b[0m matches \u001b[38;5;241m=\u001b[39m data[\u001b[38;5;124m'\u001b[39m\u001b[38;5;124mmatches\u001b[39m\u001b[38;5;124m'\u001b[39m]\n\u001b[0;32m      6\u001b[0m \u001b[38;5;28;01mreturn\u001b[39;00m pd\u001b[38;5;241m.\u001b[39mjson_normalize(matches)\n",
      "\u001b[1;31mKeyError\u001b[0m: 'matches'"
     ]
    }
   ],
   "source": [
    "def get_matches(competition_id=2021, season=2023):\n",
    "    url = f\"https://api.football-data.org/v2/competitions/{competition_id}/matches?season={season}\"\n",
    "    response = requests.get(url, headers=headers)\n",
    "    data = response.json()\n",
    "    matches = data['matches']\n",
    "    return pd.json_normalize(matches)\n",
    "\n",
    "# Example: Get Premier League (ID 2021), 2023/24 season\n",
    "matches_df = get_matches()\n",
    "matches_df.head()"
   ]
  },
  {
   "cell_type": "code",
   "execution_count": 21,
   "id": "c608faf3-2f97-45b0-bf58-6188ac8ae491",
   "metadata": {},
   "outputs": [],
   "source": [
    "\n",
    "competition_id=2021\n",
    "season=2024\n",
    "matchday= 1\n",
    "url = f'http://api.football-data.org/v4/competitions/{competition_id}/matches?seasons=2024'\n",
    "response = requests.get(url, headers=headers)\n",
    "data = response.json()\n",
    "#https://api.football-data.org/v4/competitions/2021/matches?season=2023\n"
   ]
  },
  {
   "cell_type": "code",
   "execution_count": 26,
   "id": "4004f0c6-0380-4f3a-96aa-9725492ef620",
   "metadata": {},
   "outputs": [],
   "source": [
    "url = 'https://api.football-data.org/v4/competitions/2021/matches?matchday=1&season=2024'\n",
    "response = requests.get(url, headers=headers)\n",
    "data = response.json()"
   ]
  },
  {
   "cell_type": "code",
   "execution_count": 61,
   "id": "3776379b-57f6-4224-a7c3-1edf1724d93c",
   "metadata": {
    "scrolled": true
   },
   "outputs": [],
   "source": [
    "def get_table(competition_id, matchday):\n",
    "        url = f'https://api.football-data.org/v4/competitions/{competition_id}/matches?matchday={matchday}&season=2024'\n",
    "        response = requests.get(url, headers=headers)\n",
    "        data = response.json()\n",
    "        #wait 10 seconds so all data from the api can be collected\n",
    "        time.sleep(1)\n",
    "\n",
    "        rows = []  # collect rows here\n",
    "\n",
    "        for match in  data['matches'][0]:\n",
    "            hometeam = match['homeTeam']\n",
    "            awayteam = match['awayTeam']\n",
    "            matchscore = match['score']['fullTime']\n",
    "            referee = match['referees'][0]\n",
    "            row = {\n",
    "                'match_id' : match['id'],\n",
    "                'match_date' : match['utcDate'],\n",
    "                'match_status' : match['status'],\n",
    "                'matchday' : match['matchday'],\n",
    "                'stage' : match['stage'],\n",
    "                'hometeam_id' :hometeam['id'],\n",
    "                'hometeam' : hometeam['name'],\n",
    "                'awayteam_id' : awayteam['id'],\n",
    "                'awayteam' : awayteam['name'],\n",
    "                'hometeam_score' : matchscore['home'],\n",
    "                'awayteam_score' : matchscore['away'],\n",
    "                'referee' : referee['name']\n",
    "            }\n",
    "            rows.append(row)\n",
    "        return pd.DataFrame(rows)\n"
   ]
  },
  {
   "cell_type": "code",
   "execution_count": 62,
   "id": "a3622bee-bcd3-4963-b6aa-06285a132b91",
   "metadata": {},
   "outputs": [],
   "source": [
    "def merge_matchdays(comp_id):\n",
    "    dataframes = []\n",
    "    matchdays = list(range(1,39))\n",
    "    for match in matchdays:\n",
    "        df = get_table(comp_id, match)\n",
    "        time.sleep(5)\n",
    "        dataframe.append(df) #collect all matchdays\n",
    "    merged_df = pd.concat(dataframes, ignore_index=True)\n",
    "    return merged_df"
   ]
  },
  {
   "cell_type": "code",
   "execution_count": 63,
   "id": "0883d0e1-7428-4a23-9273-cdc764bb2481",
   "metadata": {},
   "outputs": [
    {
     "ename": "TypeError",
     "evalue": "string indices must be integers, not 'str'",
     "output_type": "error",
     "traceback": [
      "\u001b[1;31m---------------------------------------------------------------------------\u001b[0m",
      "\u001b[1;31mTypeError\u001b[0m                                 Traceback (most recent call last)",
      "Cell \u001b[1;32mIn[63], line 1\u001b[0m\n\u001b[1;32m----> 1\u001b[0m Matches_Dataset \u001b[38;5;241m=\u001b[39m merge_matchdays(\u001b[38;5;241m2021\u001b[39m)\n",
      "Cell \u001b[1;32mIn[62], line 5\u001b[0m, in \u001b[0;36mmerge_matchdays\u001b[1;34m(comp_id)\u001b[0m\n\u001b[0;32m      3\u001b[0m matchdays \u001b[38;5;241m=\u001b[39m \u001b[38;5;28mlist\u001b[39m(\u001b[38;5;28mrange\u001b[39m(\u001b[38;5;241m1\u001b[39m,\u001b[38;5;241m39\u001b[39m))\n\u001b[0;32m      4\u001b[0m \u001b[38;5;28;01mfor\u001b[39;00m match \u001b[38;5;129;01min\u001b[39;00m matchdays:\n\u001b[1;32m----> 5\u001b[0m     df \u001b[38;5;241m=\u001b[39m get_table(comp_id, match)\n\u001b[0;32m      6\u001b[0m     time\u001b[38;5;241m.\u001b[39msleep(\u001b[38;5;241m5\u001b[39m)\n\u001b[0;32m      7\u001b[0m     dataframe\u001b[38;5;241m.\u001b[39mappend(df) \u001b[38;5;66;03m#collect all matchdays\u001b[39;00m\n",
      "Cell \u001b[1;32mIn[61], line 11\u001b[0m, in \u001b[0;36mget_table\u001b[1;34m(competition_id, matchday)\u001b[0m\n\u001b[0;32m      8\u001b[0m rows \u001b[38;5;241m=\u001b[39m []  \u001b[38;5;66;03m# collect rows here\u001b[39;00m\n\u001b[0;32m     10\u001b[0m \u001b[38;5;28;01mfor\u001b[39;00m match \u001b[38;5;129;01min\u001b[39;00m  data[\u001b[38;5;124m'\u001b[39m\u001b[38;5;124mmatches\u001b[39m\u001b[38;5;124m'\u001b[39m][\u001b[38;5;241m0\u001b[39m]:\n\u001b[1;32m---> 11\u001b[0m     hometeam \u001b[38;5;241m=\u001b[39m match[\u001b[38;5;124m'\u001b[39m\u001b[38;5;124mhomeTeam\u001b[39m\u001b[38;5;124m'\u001b[39m]\n\u001b[0;32m     12\u001b[0m     awayteam \u001b[38;5;241m=\u001b[39m match[\u001b[38;5;124m'\u001b[39m\u001b[38;5;124mawayTeam\u001b[39m\u001b[38;5;124m'\u001b[39m]\n\u001b[0;32m     13\u001b[0m     matchscore \u001b[38;5;241m=\u001b[39m match[\u001b[38;5;124m'\u001b[39m\u001b[38;5;124mscore\u001b[39m\u001b[38;5;124m'\u001b[39m][\u001b[38;5;124m'\u001b[39m\u001b[38;5;124mfullTime\u001b[39m\u001b[38;5;124m'\u001b[39m]\n",
      "\u001b[1;31mTypeError\u001b[0m: string indices must be integers, not 'str'"
     ]
    }
   ],
   "source": [
    "Matches_Dataset = merge_matchdays(2021)"
   ]
  },
  {
   "cell_type": "code",
   "execution_count": 65,
   "id": "797d7f27-d673-4ca2-9e65-6c6b96282ecc",
   "metadata": {},
   "outputs": [],
   "source": [
    "url = 'https://api.football-data.org/v4/competitions/2021/matches?matchday=1&season=2024'\n",
    "response = requests.get(url, headers=headers)\n",
    "data = response.json()"
   ]
  },
  {
   "cell_type": "code",
   "execution_count": 68,
   "id": "387ce9d1-87dc-4261-9f2a-c5426fc7784f",
   "metadata": {},
   "outputs": [],
   "source": [
    " match = data['matches'][0]"
   ]
  },
  {
   "cell_type": "code",
   "execution_count": 69,
   "id": "0cac1c64-3acc-4f1d-8849-c0e448dbfa92",
   "metadata": {},
   "outputs": [
    {
     "data": {
      "text/plain": [
       "{'id': 66,\n",
       " 'name': 'Manchester United FC',\n",
       " 'shortName': 'Man United',\n",
       " 'tla': 'MUN',\n",
       " 'crest': 'https://crests.football-data.org/66.png'}"
      ]
     },
     "execution_count": 69,
     "metadata": {},
     "output_type": "execute_result"
    }
   ],
   "source": [
    "match['homeTeam']"
   ]
  },
  {
   "cell_type": "code",
   "execution_count": null,
   "id": "a3a93004-72d8-4e8b-a022-c63436c700fc",
   "metadata": {},
   "outputs": [],
   "source": []
  }
 ],
 "metadata": {
  "kernelspec": {
   "display_name": "Python 3 (ipykernel)",
   "language": "python",
   "name": "python3"
  },
  "language_info": {
   "codemirror_mode": {
    "name": "ipython",
    "version": 3
   },
   "file_extension": ".py",
   "mimetype": "text/x-python",
   "name": "python",
   "nbconvert_exporter": "python",
   "pygments_lexer": "ipython3",
   "version": "3.12.7"
  }
 },
 "nbformat": 4,
 "nbformat_minor": 5
}
