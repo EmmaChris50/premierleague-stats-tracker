{
 "cells": [
  {
   "cell_type": "code",
   "execution_count": 487,
   "id": "9c1d2d3c-8ca6-4057-bc5e-3617140e4088",
   "metadata": {},
   "outputs": [],
   "source": [
    "#import libraries\n",
    "import pandas as pd\n",
    "import numpy as np\n",
    "import seaborn as sns\n",
    "import matplotlib.pyplot as plt\n",
    "import plotly.express as px"
   ]
  },
  {
   "cell_type": "code",
   "execution_count": 488,
   "id": "c0f38e96-a3fd-4f6d-8fcd-40569aa6ce71",
   "metadata": {},
   "outputs": [],
   "source": [
    "matches_df = pd.read_csv('../data/matches_clean_20250720_223207.csv')"
   ]
  },
  {
   "cell_type": "code",
   "execution_count": 489,
   "id": "78c7fc4e-182e-468a-bfdc-084d7e07bc60",
   "metadata": {},
   "outputs": [],
   "source": [
    "#import the player data \n",
    "scorers_df = pd.read_csv('../data/players_cleaned_20250722_204616.csv')\n",
    "# converst scorer_df team_id to str\n",
    "scorers_df['team_id']= scorers_df['team_id'].astype('str')\n",
    "scorers_df['team_id']= scorers_df['team_id'].str.replace('.0','', regex=False)"
   ]
  },
  {
   "cell_type": "code",
   "execution_count": 490,
   "id": "8765aa16-62bc-4166-bb19-a472e4bc5755",
   "metadata": {},
   "outputs": [],
   "source": [
    "#import the team data\n",
    "team_stats = pd.read_csv('../data/team_stats(raw)_20250723_013940.csv')\n",
    "#convert team id to str\n",
    "team_stats['team_id']= team_stats['team_id'].astype(str)"
   ]
  },
  {
   "cell_type": "code",
   "execution_count": 491,
   "id": "ea427b20-bfc2-4297-81b7-a6119e2cc49f",
   "metadata": {},
   "outputs": [],
   "source": [
    "#merge teamdata and scorers data together on team id to get the total goals scored by the teams\n",
    "team_player_stats = pd.merge(scorers_df,team_stats[['team_id','goalsFor']], on='team_id')"
   ]
  },
  {
   "cell_type": "code",
   "execution_count": 492,
   "id": "33962c16-dfae-4692-92e8-0517453656e0",
   "metadata": {},
   "outputs": [],
   "source": [
    "# Rename the goals for column to total team goals\n",
    "team_player_stats = team_player_stats.rename(columns={\n",
    "    'goalsFor':'total_team_goals', \n",
    "})\n"
   ]
  },
  {
   "cell_type": "markdown",
   "id": "8ec9635e-0f56-44ee-acfd-4d31e7aa7c37",
   "metadata": {},
   "source": [
    "# Feature Engineering"
   ]
  },
  {
   "cell_type": "code",
   "execution_count": 493,
   "id": "d293a6af-5c2c-4091-a9d8-33cdeb2f2177",
   "metadata": {},
   "outputs": [],
   "source": [
    "matches_df['goal_difference'] = matches_df['home_goals'] - matches_df['away_goals']\n",
    "matches_df['total_goals'] = matches_df['home_goals'] + matches_df['away_goals']\n",
    "matches_df['is_draw'] = matches_df['result'] == 'D'\n",
    "matches_df['home_win'] = matches_df['result'] == 'H'\n",
    "matches_df['away_win'] = matches_df['result'] == 'A'\n",
    "# Create a scoreline column\n",
    "matches_df['scoreline'] = matches_df['home_goals'].astype(str) + \" - \" + matches_df['away_goals'].astype(str)\n"
   ]
  },
  {
   "cell_type": "code",
   "execution_count": 494,
   "id": "9bb8fd54-cf99-484b-9e89-7cdc5b8b67ce",
   "metadata": {},
   "outputs": [],
   "source": [
    "team_player_stats['goals_per_match'] = (team_player_stats['goals'] / team_player_stats['appearances']).round(2)\n",
    "team_player_stats['non_penalty_goals'] = (team_player_stats['goals'] - team_player_stats['penalty_goals'])\n",
    "team_player_stats['goal_contribution'] = (team_player_stats['goals'] + team_player_stats['assists'])\n",
    "team_player_stats['minutes_per_goal'] =np.where(team_player_stats['goals'] > 0, team_player_stats['minutes'] / team_player_stats['goals'],0  ).round(2)\n",
    "team_player_stats['goal_contribution_ratio'] = (team_player_stats['goals'] / team_player_stats['total_team_goals'])\n"
   ]
  },
  {
   "cell_type": "code",
   "execution_count": 495,
   "id": "db54e1af-cbab-44a3-adec-c51920e38048",
   "metadata": {},
   "outputs": [],
   "source": [
    "team_stats['win_ratio'] = (team_stats['wins'] / team_stats['games_played']).round(2)\n",
    "team_stats['loss_ratio'] = (team_stats['losses'] / team_stats['games_played']).round(2)\n",
    "team_stats['points_per_game'] = (team_stats['points'] / team_stats['games_played']).round(2)\n",
    "team_stats['avg_goals_scored'] = (team_stats['goalsFor'] / team_stats['games_played']).round(2)\n",
    "team_stats['avg_goals_conceded'] = (team_stats['goals_against'] / team_stats['games_played']).round(2)"
   ]
  },
  {
   "cell_type": "markdown",
   "id": "f6f10b87-fea4-4a7b-bb0d-8ad7133d650e",
   "metadata": {},
   "source": [
    "# Exploratory Data Analysis: 2023/24 Premier League Season\n",
    "\n",
    "This notebook analyzes match-level data from the 2023/2024 Premier League season. The goal is to identify patterns in team performance, goal scoring, home/away advantage, and matchday dynamics. This supports recruitment, performance evaluation, and tactical insights.\n"
   ]
  },
  {
   "cell_type": "markdown",
   "id": "07c5e909-7910-4877-983e-93a4d0ccd46d",
   "metadata": {},
   "source": [
    "- Which team had the most home wins?"
   ]
  },
  {
   "cell_type": "code",
   "execution_count": 496,
   "id": "7d7a9130-a943-4233-82b6-4ca0ae087f2a",
   "metadata": {},
   "outputs": [
    {
     "name": "stdout",
     "output_type": "stream",
     "text": [
      "Team with the most home wins : Arsenal FC (15)\n"
     ]
    }
   ],
   "source": [
    "home_wins = matches_df[matches_df['result'] == 'H']\n",
    "home_win_counts = home_wins['home_team'].value_counts()\n",
    "top_home_team = home_win_counts.idxmax()\n",
    "top_home_wins = home_win_counts.max()\n",
    "print(f'Team with the most home wins : {top_home_team} ({top_home_wins})')"
   ]
  },
  {
   "cell_type": "markdown",
   "id": "22f1d58f-3a3f-4969-b3fe-d0f7410c72ad",
   "metadata": {},
   "source": [
    "- Which team scored the most goals overall?"
   ]
  },
  {
   "cell_type": "code",
   "execution_count": 497,
   "id": "bf30121d-48b4-4e2d-965a-fec4ae08e384",
   "metadata": {},
   "outputs": [
    {
     "name": "stdout",
     "output_type": "stream",
     "text": [
      " Team with most total goals: Manchester City FC (96 goals)\n"
     ]
    }
   ],
   "source": [
    "home_goals_df = matches_df.groupby('home_team')['home_goals'].sum()\n",
    "away_goals_df = matches_df.groupby('away_team')['away_goals'].sum()\n",
    "total_goals = home_goals_df.add(away_goals_df, fill_value=0)\n",
    "top_scorer_team = total_goals.idxmax()\n",
    "top_scorer_goals = total_goals.max()\n",
    "print(f\" Team with most total goals: {top_scorer_team} ({int(top_scorer_goals)} goals)\")"
   ]
  },
  {
   "cell_type": "markdown",
   "id": "973c919f-73ad-4258-8e3d-51d53ee11177",
   "metadata": {},
   "source": [
    "- What was the average number of goals per match?"
   ]
  },
  {
   "cell_type": "code",
   "execution_count": 498,
   "id": "8aed5c3c-dcd1-4e2e-a83f-e918137c77cc",
   "metadata": {},
   "outputs": [
    {
     "name": "stdout",
     "output_type": "stream",
     "text": [
      "Average goals scored per match : 3.28\n"
     ]
    }
   ],
   "source": [
    "average_goals_per_match = (matches_df['total_goals'].sum() / 380).round(2)\n",
    "print(f'Average goals scored per match : {average_goals_per_match}')"
   ]
  },
  {
   "cell_type": "markdown",
   "id": "8a669192-bfdc-4a0d-b4a9-4b88cb322c8a",
   "metadata": {},
   "source": [
    "- Was there a home team advantage?"
   ]
  },
  {
   "cell_type": "code",
   "execution_count": 499,
   "id": "bfaad894-2bf9-4828-86ce-217f0f77c7f4",
   "metadata": {},
   "outputs": [
    {
     "name": "stdout",
     "output_type": "stream",
     "text": [
      "Home wins: 175\n",
      "Away wins: 123\n",
      "Home teams win 52 more matches than away teams throughout the season\n",
      "There is an home advantage\n"
     ]
    }
   ],
   "source": [
    "home_wins = matches_df[matches_df['result'] == 'H']\n",
    "home_win_count = home_wins['home_win'].count()\n",
    "away_wins =  matches_df[matches_df['result'] == 'A']\n",
    "away_win_count = away_wins['away_win'].count()\n",
    "print(f'Home wins: {home_win_count}')\n",
    "print(f'Away wins: {away_win_count}')\n",
    "print(f'Home teams win {home_win_count - away_win_count} more matches than away teams throughout the season')\n",
    "print('There is an home advantage')"
   ]
  },
  {
   "cell_type": "markdown",
   "id": "8f5f0bcd-65d4-4615-b5d2-c07def381259",
   "metadata": {},
   "source": [
    "- How often did matches end in a draw?"
   ]
  },
  {
   "cell_type": "code",
   "execution_count": 500,
   "id": "09b00319-64fd-4ea8-8c7c-9c22ab1d9776",
   "metadata": {},
   "outputs": [
    {
     "name": "stdout",
     "output_type": "stream",
     "text": [
      "There are 82 drawn matches\n"
     ]
    }
   ],
   "source": [
    "drawn_match = matches_df[matches_df['is_draw'] == True]\n",
    "drawn_match_count = drawn_match['is_draw'].count()\n",
    "drawn_match_count\n",
    "print(f'There are {drawn_match_count} drawn matches')"
   ]
  },
  {
   "cell_type": "markdown",
   "id": "e9d83185-1e90-4183-b87a-44d351f16bc5",
   "metadata": {},
   "source": [
    "- What’s the most common scoreline?"
   ]
  },
  {
   "cell_type": "code",
   "execution_count": 501,
   "id": "38e402d8-451b-4ae1-8d11-88ec87d5b394",
   "metadata": {},
   "outputs": [
    {
     "name": "stdout",
     "output_type": "stream",
     "text": [
      " Most common scoreline: 1 - 1 (38 times)\n"
     ]
    }
   ],
   "source": [
    "\n",
    "#  Count each scoreline\n",
    "scoreline_counts = matches_df['scoreline'].value_counts()\n",
    "\n",
    "# Step 3: Get the most common\n",
    "most_common_scoreline = scoreline_counts.idxmax()\n",
    "most_common_count = scoreline_counts.max()\n",
    "\n",
    "print(f\" Most common scoreline: {most_common_scoreline} ({most_common_count} times)\")"
   ]
  },
  {
   "cell_type": "markdown",
   "id": "2ce3de2e-06a0-4178-85bc-099a9b4d628a",
   "metadata": {},
   "source": [
    "- Is there a pattern in total goals across matchdays?"
   ]
  },
  {
   "cell_type": "code",
   "execution_count": 502,
   "id": "0e618c81-50d1-4ef8-a4d6-d9fb5644d287",
   "metadata": {},
   "outputs": [],
   "source": [
    "goals_by_matchday = matches_df.groupby('matchday')['total_goals'].sum().sort_index()"
   ]
  },
  {
   "cell_type": "code",
   "execution_count": 503,
   "id": "575b0813-a08d-4c42-bf87-633f771d717d",
   "metadata": {},
   "outputs": [
    {
     "data": {
      "image/png": "[encoded data removed]",
      "text/plain": [
       "<Figure size 1200x600 with 1 Axes>"
      ]
     },
     "metadata": {},
     "output_type": "display_data"
    }
   ],
   "source": [
    "plt.figure(figsize=(12, 6))\n",
    "plt.plot(goals_by_matchday.index, goals_by_matchday.values, marker='o', linestyle='-')\n",
    "plt.title(\"Total Goals per Matchday\")\n",
    "plt.xlabel(\"Matchday (Round)\")\n",
    "plt.ylabel(\"Total Goals\")\n",
    "plt.grid(True)\n",
    "plt.xticks(range(1, 39))  # Matchdays 1 to 38\n",
    "plt.tight_layout()\n",
    "plt.show()"
   ]
  },
  {
   "cell_type": "code",
   "execution_count": null,
   "id": "812e481f-d704-40ab-bdff-251916ddc82b",
   "metadata": {},
   "outputs": [],
   "source": []
  },
  {
   "cell_type": "code",
   "execution_count": 504,
   "id": "342f79c6-94f1-445e-976b-0031b698757e",
   "metadata": {},
   "outputs": [
    {
     "data": {
      "text/html": [
       "<div>\n",
       "<style scoped>\n",
       "    .dataframe tbody tr th:only-of-type {\n",
       "        vertical-align: middle;\n",
       "    }\n",
       "\n",
       "    .dataframe tbody tr th {\n",
       "        vertical-align: top;\n",
       "    }\n",
       "\n",
       "    .dataframe thead th {\n",
       "        text-align: right;\n",
       "    }\n",
       "</style>\n",
       "<table border=\"1\" class=\"dataframe\">\n",
       "  <thead>\n",
       "    <tr style=\"text-align: right;\">\n",
       "      <th></th>\n",
       "      <th>home_team</th>\n",
       "      <th>away_team</th>\n",
       "      <th>total_goals</th>\n",
       "      <th>scoreline</th>\n",
       "    </tr>\n",
       "  </thead>\n",
       "  <tbody>\n",
       "    <tr>\n",
       "      <th>220</th>\n",
       "      <td>Everton FC</td>\n",
       "      <td>Tottenham Hotspur FC</td>\n",
       "      <td>4</td>\n",
       "      <td>2 - 2</td>\n",
       "    </tr>\n",
       "    <tr>\n",
       "      <th>221</th>\n",
       "      <td>Brighton &amp; Hove Albion FC</td>\n",
       "      <td>Crystal Palace FC</td>\n",
       "      <td>5</td>\n",
       "      <td>4 - 1</td>\n",
       "    </tr>\n",
       "    <tr>\n",
       "      <th>222</th>\n",
       "      <td>Burnley FC</td>\n",
       "      <td>Fulham FC</td>\n",
       "      <td>4</td>\n",
       "      <td>2 - 2</td>\n",
       "    </tr>\n",
       "    <tr>\n",
       "      <th>223</th>\n",
       "      <td>Newcastle United FC</td>\n",
       "      <td>Luton Town FC</td>\n",
       "      <td>8</td>\n",
       "      <td>4 - 4</td>\n",
       "    </tr>\n",
       "    <tr>\n",
       "      <th>224</th>\n",
       "      <td>Sheffield United FC</td>\n",
       "      <td>Aston Villa FC</td>\n",
       "      <td>5</td>\n",
       "      <td>0 - 5</td>\n",
       "    </tr>\n",
       "    <tr>\n",
       "      <th>225</th>\n",
       "      <td>AFC Bournemouth</td>\n",
       "      <td>Nottingham Forest FC</td>\n",
       "      <td>2</td>\n",
       "      <td>1 - 1</td>\n",
       "    </tr>\n",
       "    <tr>\n",
       "      <th>226</th>\n",
       "      <td>Chelsea FC</td>\n",
       "      <td>Wolverhampton Wanderers FC</td>\n",
       "      <td>6</td>\n",
       "      <td>2 - 4</td>\n",
       "    </tr>\n",
       "    <tr>\n",
       "      <th>227</th>\n",
       "      <td>Manchester United FC</td>\n",
       "      <td>West Ham United FC</td>\n",
       "      <td>3</td>\n",
       "      <td>3 - 0</td>\n",
       "    </tr>\n",
       "    <tr>\n",
       "      <th>228</th>\n",
       "      <td>Arsenal FC</td>\n",
       "      <td>Liverpool FC</td>\n",
       "      <td>4</td>\n",
       "      <td>3 - 1</td>\n",
       "    </tr>\n",
       "    <tr>\n",
       "      <th>229</th>\n",
       "      <td>Brentford FC</td>\n",
       "      <td>Manchester City FC</td>\n",
       "      <td>4</td>\n",
       "      <td>1 - 3</td>\n",
       "    </tr>\n",
       "  </tbody>\n",
       "</table>\n",
       "</div>"
      ],
      "text/plain": [
       "                     home_team                   away_team  total_goals  \\\n",
       "220                 Everton FC        Tottenham Hotspur FC            4   \n",
       "221  Brighton & Hove Albion FC           Crystal Palace FC            5   \n",
       "222                 Burnley FC                   Fulham FC            4   \n",
       "223        Newcastle United FC               Luton Town FC            8   \n",
       "224        Sheffield United FC              Aston Villa FC            5   \n",
       "225            AFC Bournemouth        Nottingham Forest FC            2   \n",
       "226                 Chelsea FC  Wolverhampton Wanderers FC            6   \n",
       "227       Manchester United FC          West Ham United FC            3   \n",
       "228                 Arsenal FC                Liverpool FC            4   \n",
       "229               Brentford FC          Manchester City FC            4   \n",
       "\n",
       "    scoreline  \n",
       "220     2 - 2  \n",
       "221     4 - 1  \n",
       "222     2 - 2  \n",
       "223     4 - 4  \n",
       "224     0 - 5  \n",
       "225     1 - 1  \n",
       "226     2 - 4  \n",
       "227     3 - 0  \n",
       "228     3 - 1  \n",
       "229     1 - 3  "
      ]
     },
     "execution_count": 504,
     "metadata": {},
     "output_type": "execute_result"
    }
   ],
   "source": [
    "matchday_23 = matches_df[matches_df['matchday'] == 23]\n",
    "matchday_23 = matchday_23[['home_team','away_team', 'total_goals','scoreline']]\n",
    "matchday_23\n"
   ]
  },
  {
   "cell_type": "code",
   "execution_count": 505,
   "id": "2546bdf5-5321-4e78-9102-b522ab191845",
   "metadata": {},
   "outputs": [
    {
     "name": "stdout",
     "output_type": "stream",
     "text": [
      "The matchday with the most goals: Matchday 23 (45)\n"
     ]
    }
   ],
   "source": [
    "print(f'The matchday with the most goals: Matchday 23 ({matchday_23['total_goals'].sum()})')"
   ]
  },
  {
   "cell_type": "code",
   "execution_count": 506,
   "id": "ad754e43-b070-4bd1-a01b-08fd8efc7606",
   "metadata": {},
   "outputs": [
    {
     "data": {
      "image/png": "[encoded data removed]",
      "text/plain": [
       "<Figure size 800x500 with 1 Axes>"
      ]
     },
     "metadata": {},
     "output_type": "display_data"
    }
   ],
   "source": [
    "result = matches_df['result'].value_counts()\n",
    "\n",
    "sns.set_style(\"whitegrid\")\n",
    "sns.set_palette('dark:#5A9_r')\n",
    "\n",
    "\n",
    "plt.figure(figsize=(8, 5))\n",
    "colors = plt.cm.Set3(np.linspace(0, 1, len(result)))\n",
    "\n",
    "wedges, texts, autotexts = plt.pie(\n",
    "    result,\n",
    "    labels=['Home wins', 'Away wins','Draw'],\n",
    "    autopct='%1.1f%%',\n",
    "    startangle=90,\n",
    "    textprops={'fontsize': 10, 'fontweight': 'bold'}\n",
    ")\n",
    "plt.title('Results ratio for the season', fontsize=16, fontweight='bold')\n",
    "plt.axis('equal')\n",
    "plt.show()"
   ]
  },
  {
   "cell_type": "code",
   "execution_count": 507,
   "id": "9e9084dc-534f-4eac-aaf2-3295fb23de72",
   "metadata": {},
   "outputs": [
    {
     "data": {
      "image/png": "[encoded data removed]",
      "text/plain": [
       "<Figure size 1200x700 with 1 Axes>"
      ]
     },
     "metadata": {},
     "output_type": "display_data"
    }
   ],
   "source": [
    "sns.set_style(\"whitegrid\")\n",
    "\n",
    "# Create the barplot\n",
    "plt.figure(figsize=(12, 7))\n",
    "barplot = sns.barplot(\n",
    "    x= total_goals.index,\n",
    "    y= total_goals.values,\n",
    "    hue= total_goals.index,\n",
    "    palette=\"icefire\",\n",
    "    legend=False    \n",
    ")\n",
    "\n",
    "# Add value labels on top of each bar\n",
    "for i, v in enumerate(total_goals.values):\n",
    "    barplot.text(i, v + 0.2, f\"{v:.1f}\", ha='center', va='bottom', fontsize=10, fontweight='bold')\n",
    "\n",
    "plt.xticks(rotation=45, ha='right')\n",
    "plt.xlabel('Teams', fontsize=12, fontweight='bold')\n",
    "plt.ylabel('Total goals', fontsize=12, fontweight='bold')\n",
    "plt.title('Total goals per Team', fontsize=15, fontweight='bold')\n",
    "plt.tight_layout()\n",
    "plt.show()"
   ]
  },
  {
   "cell_type": "code",
   "execution_count": 508,
   "id": "1453ce7a-986c-4c7b-9d26-76ead70a98d2",
   "metadata": {},
   "outputs": [
    {
     "data": {
      "text/plain": [
       "<Axes: title={'center': 'Top 10 Scorelines'}, xlabel='scoreline'>"
      ]
     },
     "execution_count": 508,
     "metadata": {},
     "output_type": "execute_result"
    },
    {
     "data": {
      "image/png": "[encoded data removed]",
      "text/plain": [
       "<Figure size 1000x400 with 1 Axes>"
      ]
     },
     "metadata": {},
     "output_type": "display_data"
    }
   ],
   "source": [
    "plt.style.use('tableau-colorblind10')\n",
    "matches_df['scoreline'].value_counts().head(10).plot(kind='bar', figsize=(10, 4), title='Top 10 Scorelines')"
   ]
  },
  {
   "cell_type": "code",
   "execution_count": 509,
   "id": "ec5cc080-4e36-4eb1-b381-38122b68d52b",
   "metadata": {},
   "outputs": [
    {
     "data": {
      "text/plain": [
       "Text(0.5, 1.0, 'Distribution of Total Goals per Match')"
      ]
     },
     "execution_count": 509,
     "metadata": {},
     "output_type": "execute_result"
    },
    {
     "data": {
      "image/png": "[encoded data removed]",
      "text/plain": [
       "<Figure size 640x480 with 1 Axes>"
      ]
     },
     "metadata": {},
     "output_type": "display_data"
    }
   ],
   "source": [
    "sns.histplot(matches_df['total_goals'],bins=10 , kde=True)\n",
    "plt.title('Distribution of Total Goals per Match')"
   ]
  },
  {
   "cell_type": "code",
   "execution_count": null,
   "id": "3de3bb38-e1ac-47b4-b2c9-2d776b2727a1",
   "metadata": {},
   "outputs": [],
   "source": [
    "goals_conceded = matches_df.groupby('home_team')['away_goals'].sum() + matches_df.groupby('away_team')['home_goals'].sum()\n",
    "most_gc = goals_conceded.sort_values(ascending=False).head(10)\n",
    "\n",
    "\n",
    "# Create the barplot\n",
    "plt.figure(figsize=(12, 7))\n",
    "barplot = sns.barplot(\n",
    "    x= most_gc.index,\n",
    "    y= most_gc.values,\n",
    "    hue= most_gc.index,\n",
    "    palette=\"icefire\",\n",
    "    legend=False    \n",
    ")\n",
    "\n",
    "# Add value labels on top of each bar\n",
    "for i, v in enumerate(most_gc.values):\n",
    "    barplot.text(i, v + 0.2, f\"{v:.1f}\", ha='center', va='bottom', fontsize=10, fontweight='bold')\n",
    "\n",
    "plt.xticks(rotation=45, ha='right')\n",
    "plt.xlabel('Teams', fontsize=12, fontweight='bold')\n",
    "plt.ylabel('Goals Conceded', fontsize=12, fontweight='bold')\n",
    "plt.title('Total goals conceded per Team', fontsize=15, fontweight='bold')\n",
    "plt.tight_layout()\n",
    "plt.show()"
   ]
  },
  {
   "cell_type": "code",
   "execution_count": null,
   "id": "730266a5-45de-4b72-8f7a-d9d5308c68ff",
   "metadata": {},
   "outputs": [],
   "source": []
  },
  {
   "cell_type": "markdown",
   "id": "9b57086b-7ce2-4272-bc98-ff75390af843",
   "metadata": {},
   "source": [
    "- Who are the top 10 most efficient scorers (by minutes per goal)"
   ]
  },
  {
   "cell_type": "code",
   "execution_count": null,
   "id": "a7dfc562-7e27-46a8-8442-52547bdaaa29",
   "metadata": {},
   "outputs": [],
   "source": [
    "# goals greater than\n",
    "_100plusmintes = team_player_stats[team_player_stats['minutes'] > 100]\n",
    "_100plusmintes[['name','minutes','minutes_per_goal']].sort_values(by='minutes_per_goal', ignore_index=True).head(10)"
   ]
  },
  {
   "cell_type": "markdown",
   "id": "2f908ddd-330f-4246-bf29-fcf78eeaab4b",
   "metadata": {},
   "source": [
    "- How do goal contributions vary by position group"
   ]
  },
  {
   "cell_type": "code",
   "execution_count": null,
   "id": "2e154ad2-75a1-4ebd-b2d8-306f4664c462",
   "metadata": {},
   "outputs": [],
   "source": [
    "goal_contribution_per_position = team_player_stats.groupby('position')['goal_contribution'].sum()\n",
    "goal_contribution_per_position.reset_index(). sort_values(by='goal_contribution', ascending=False)"
   ]
  },
  {
   "cell_type": "code",
   "execution_count": null,
   "id": "8e75b59d-d680-4103-8d57-e4845d2093cc",
   "metadata": {},
   "outputs": [],
   "source": [
    "team_player_stats.corr(numeric_only=True)"
   ]
  },
  {
   "cell_type": "markdown",
   "id": "944861cd-4a9f-4fe0-8538-780f37e960ad",
   "metadata": {},
   "source": [
    "- Which players overperformed based on limited appearances?"
   ]
  },
  {
   "cell_type": "code",
   "execution_count": null,
   "id": "f9a8efc4-02ca-477d-9e78-cf992a4af1fa",
   "metadata": {},
   "outputs": [],
   "source": [
    "# Create goals per game metric\n",
    "team_player_stats['goals_per_game'] = team_player_stats['goals'] / team_player_stats['appearances']\n",
    "\n",
    "# Filter players with <= 10 appearances but high scoring rate\n",
    "overperformers = team_player_stats[(team_player_stats['appearances'] <= 20) & (team_player_stats['goals_per_game'] >= 0.4)]\n",
    "\n",
    "# Sort by goals_per_game\n",
    "overperformers = overperformers.sort_values(by='goals_per_game', ascending=False).reset_index()\n",
    "\n",
    "print(overperformers[['name', 'team', 'appearances', 'goals', 'goals_per_game']])\n",
    "print('')\n",
    "print(f'The Most Effiecient Goalscorer is {overperformers.iloc[0,1]} with {overperformers.iloc[0,6]} appearances and {overperformers.iloc[0,9]} goals.')"
   ]
  },
  {
   "cell_type": "markdown",
   "id": "7a323ed7-7180-41f1-9ad8-da34e43d5918",
   "metadata": {},
   "source": [
    "- Is there a clear gap between top 5 scorers and the rest?"
   ]
  },
  {
   "cell_type": "code",
   "execution_count": null,
   "id": "3a5028d7-ca80-48af-84dc-fb5d72f4ab9e",
   "metadata": {},
   "outputs": [],
   "source": [
    "# Top 5 scorers\n",
    "top_5 = scorers_df.sort_values(by='goals', ascending=False).head(5)\n",
    "\n",
    "# Plot histogram\n",
    "plt.figure(figsize=(10, 6))\n",
    "sns.histplot(scorers_df['goals'], bins=20, kde=True)\n",
    "plt.axvline(top_5['goals'].min(), color='red', linestyle='--', label='Top 5 lower bound')\n",
    "plt.title('Distribution of Goals Scored')\n",
    "plt.xlabel('Goals')\n",
    "plt.legend()\n",
    "plt.show()\n",
    "\n"
   ]
  },
  {
   "cell_type": "markdown",
   "id": "32f9f20f-7bf9-4f1a-beaf-7bf19f116e17",
   "metadata": {},
   "source": [
    "- Percentage of goals scored by top 20 scorers in the league"
   ]
  },
  {
   "cell_type": "code",
   "execution_count": null,
   "id": "0315c96e-63a8-4f2a-b034-733797d363a6",
   "metadata": {},
   "outputs": [],
   "source": [
    "total_goals = team_stats['goalsFor'].sum()\n",
    "top_20_scorers = scorers_df.sort_values(by='goals', ascending =False).head(20)\n",
    "sum_goals_of_top_20_scorers = top_20_scorers['goals'].sum()\n",
    "print(f'The top 20 scorers in the league scored {((sum_goals_of_top_20_scorers/total_goals)* 100).round(1)} % of the total league goals')"
   ]
  },
  {
   "cell_type": "markdown",
   "id": "7695333a-1eee-45e7-b0b0-f32a963c483f",
   "metadata": {},
   "source": [
    "- Do top scorers tend to play more minutes or are they super-subs?"
   ]
  },
  {
   "cell_type": "code",
   "execution_count": null,
   "id": "924b1bbb-43b9-46a5-abbd-472e24ad0fc5",
   "metadata": {},
   "outputs": [],
   "source": [
    "# Scatter plot: Minutes played vs goals scored\n",
    "plt.figure(figsize=(10, 6))\n",
    "sns.scatterplot(data=scorers_df, x='minutes', y='goals', hue='position', alpha=0.7)\n",
    "plt.title('Do Top Scorers Play More Minutes or Are They Super-Subs?')\n",
    "plt.xlabel('Minutes Played')\n",
    "plt.ylabel('Goals Scored')\n",
    "plt.show()\n",
    "\n",
    "# Optional: Correlation\n",
    "correlation = scorers_df['minutes'].corr(scorers_df['goals'])\n",
    "print(f\"Correlation between minutes played and goals scored: {correlation:.2f}\")\n"
   ]
  },
  {
   "cell_type": "markdown",
   "id": "38dbdee6-cb48-4714-ab5c-d089e948ddc7",
   "metadata": {},
   "source": [
    "- Which team had the best points-per-game performance?"
   ]
  },
  {
   "cell_type": "code",
   "execution_count": null,
   "id": "06e9103b-45fe-4053-88ab-ac174854c624",
   "metadata": {},
   "outputs": [],
   "source": [
    "most_points_per_game = team_stats[['team_name','points','points_per_game', 'games_played' ]].sort_values(by='points_per_game', ascending=False)\n",
    "print(f'{most_points_per_game.iloc[0,0]} ({most_points_per_game.iloc[0,2]}) has the most points per game.')"
   ]
  },
  {
   "cell_type": "markdown",
   "id": "c91e683d-e86b-47b6-b8e0-b02b1b955222",
   "metadata": {},
   "source": [
    "- How does goal difference relate to final points total?"
   ]
  },
  {
   "cell_type": "code",
   "execution_count": null,
   "id": "0447a9cd-0cc0-4fb0-a898-7348ad2e8d42",
   "metadata": {},
   "outputs": [],
   "source": [
    "# Scatter plot\n",
    "plt.figure(figsize=(8, 6))\n",
    "sns.regplot(data=team_stats, x='goal_difference', y='points')\n",
    "plt.title('Goal Difference vs Final Points')\n",
    "plt.xlabel('Goal Difference')\n",
    "plt.ylabel('Points')\n",
    "plt.show()\n",
    "\n",
    "# Correlation between goal difference and points\n",
    "correlation = team_stats['goal_difference'].corr(team_stats['points'])\n",
    "print(f\"Correlation between goal difference and points: {correlation:.2f}\")"
   ]
  },
  {
   "cell_type": "code",
   "execution_count": null,
   "id": "7c4634f4-44e9-4087-a80b-9fb96e947322",
   "metadata": {},
   "outputs": [],
   "source": [
    "team_stats"
   ]
  },
  {
   "cell_type": "markdown",
   "id": "8bd1f6ec-c72a-4635-9651-820df586dcb1",
   "metadata": {},
   "source": [
    "- Which team had the best defense? (lowest avg goals conceded)"
   ]
  },
  {
   "cell_type": "code",
   "execution_count": null,
   "id": "e7d152d8-273b-40c6-aed9-f93d15b31162",
   "metadata": {},
   "outputs": [],
   "source": [
    "best_defense = team_stats.sort_values(by='avg_goals_conceded').head(5).reset_index()\n",
    "\n",
    "print(best_defense[['team_name', 'goals_against', 'games_played', 'avg_goals_conceded']])"
   ]
  },
  {
   "cell_type": "markdown",
   "id": "7a670186-a70d-4639-a53e-ad3f36f5812d",
   "metadata": {},
   "source": [
    "- How does win ratio compare between top 5 and bottom 5 teams?"
   ]
  },
  {
   "cell_type": "code",
   "execution_count": 510,
   "id": "d558b30a-92e9-4d76-b994-6f1bed7b4b8f",
   "metadata": {},
   "outputs": [
    {
     "data": {
      "application/vnd.plotly.v1+json": {
       "config": {
        "plotlyServerURL": "https://plot.ly"
       },
       "data": [
        {
         "alignmentgroup": "True",
         "hovertemplate": "Tier=Top 5<br>team_name=%{x}<br>win_ratio=%{text}<extra></extra>",
         "legendgroup": "Top 5",
         "marker": {
          "color": "rgb(3, 35, 51)",
          "pattern": {
           "shape": ""
          }
         },
         "name": "Top 5",
         "offsetgroup": "Top 5",
         "orientation": "v",
         "showlegend": true,
         "text": [
          0.74,
          0.74,
          0.63,
          0.53,
          0.53
         ],
         "textposition": "outside",
         "type": "bar",
         "x": [
          "Manchester City FC",
          "Arsenal FC",
          "Liverpool FC",
          "Aston Villa FC",
          "Tottenham Hotspur FC"
         ],
         "xaxis": "x",
         "y": [
          0.74,
          0.74,
          0.63,
          0.53,
          0.53
         ],
         "yaxis": "y"
        },
        {
         "alignmentgroup": "True",
         "hovertemplate": "Tier=Bottom 5<br>team_name=%{x}<br>win_ratio=%{text}<extra></extra>",
         "legendgroup": "Bottom 5",
         "marker": {
          "color": "rgb(13, 48, 100)",
          "pattern": {
           "shape": ""
          }
         },
         "name": "Bottom 5",
         "offsetgroup": "Bottom 5",
         "orientation": "v",
         "showlegend": true,
         "text": [
          0.26,
          0.24,
          0.16,
          0.13,
          0.08
         ],
         "textposition": "outside",
         "type": "bar",
         "x": [
          "Brentford FC",
          "Nottingham Forest FC",
          "Luton Town FC",
          "Burnley FC",
          "Sheffield United FC"
         ],
         "xaxis": "x",
         "y": [
          0.26,
          0.24,
          0.16,
          0.13,
          0.08
         ],
         "yaxis": "y"
        }
       ],
       "layout": {
        "barmode": "relative",
        "height": 550,
        "legend": {
         "title": {
          "text": "Tier"
         },
         "tracegroupgap": 0
        },
        "margin": {
         "t": 60
        },
        "paper_bgcolor": "#E6E1D3",
        "plot_bgcolor": "#E6E1D3",
        "showlegend": false,
        "template": {
         "data": {
          "candlestick": [
           {
            "decreasing": {
             "line": {
              "color": "#000033"
             }
            },
            "increasing": {
             "line": {
              "color": "#000032"
             }
            },
            "type": "candlestick"
           }
          ],
          "contour": [
           {
            "colorscale": [
             [
              0,
              "#000011"
             ],
             [
              0.1111111111111111,
              "#000012"
             ],
             [
              0.2222222222222222,
              "#000013"
             ],
             [
              0.3333333333333333,
              "#000014"
             ],
             [
              0.4444444444444444,
              "#000015"
             ],
             [
              0.5555555555555556,
              "#000016"
             ],
             [
              0.6666666666666666,
              "#000017"
             ],
             [
              0.7777777777777778,
              "#000018"
             ],
             [
              0.8888888888888888,
              "#000019"
             ],
             [
              1,
              "#000020"
             ]
            ],
            "type": "contour"
           }
          ],
          "contourcarpet": [
           {
            "colorscale": [
             [
              0,
              "#000011"
             ],
             [
              0.1111111111111111,
              "#000012"
             ],
             [
              0.2222222222222222,
              "#000013"
             ],
             [
              0.3333333333333333,
              "#000014"
             ],
             [
              0.4444444444444444,
              "#000015"
             ],
             [
              0.5555555555555556,
              "#000016"
             ],
             [
              0.6666666666666666,
              "#000017"
             ],
             [
              0.7777777777777778,
              "#000018"
             ],
             [
              0.8888888888888888,
              "#000019"
             ],
             [
              1,
              "#000020"
             ]
            ],
            "type": "contourcarpet"
           }
          ],
          "heatmap": [
           {
            "colorscale": [
             [
              0,
              "#000011"
             ],
             [
              0.1111111111111111,
              "#000012"
             ],
             [
              0.2222222222222222,
              "#000013"
             ],
             [
              0.3333333333333333,
              "#000014"
             ],
             [
              0.4444444444444444,
              "#000015"
             ],
             [
              0.5555555555555556,
              "#000016"
             ],
             [
              0.6666666666666666,
              "#000017"
             ],
             [
              0.7777777777777778,
              "#000018"
             ],
             [
              0.8888888888888888,
              "#000019"
             ],
             [
              1,
              "#000020"
             ]
            ],
            "type": "heatmap"
           }
          ],
          "histogram2d": [
           {
            "colorscale": [
             [
              0,
              "#000011"
             ],
             [
              0.1111111111111111,
              "#000012"
             ],
             [
              0.2222222222222222,
              "#000013"
             ],
             [
              0.3333333333333333,
              "#000014"
             ],
             [
              0.4444444444444444,
              "#000015"
             ],
             [
              0.5555555555555556,
              "#000016"
             ],
             [
              0.6666666666666666,
              "#000017"
             ],
             [
              0.7777777777777778,
              "#000018"
             ],
             [
              0.8888888888888888,
              "#000019"
             ],
             [
              1,
              "#000020"
             ]
            ],
            "type": "histogram2d"
           }
          ],
          "icicle": [
           {
            "textfont": {
             "color": "white"
            },
            "type": "icicle"
           }
          ],
          "sankey": [
           {
            "textfont": {
             "color": "#000036"
            },
            "type": "sankey"
           }
          ],
          "scatter": [
           {
            "marker": {
             "line": {
              "width": 0
             }
            },
            "type": "scatter"
           }
          ],
          "table": [
           {
            "cells": {
             "fill": {
              "color": "#000038"
             },
             "font": {
              "color": "#000037"
             },
             "line": {
              "color": "#000039"
             }
            },
            "header": {
             "fill": {
              "color": "#000040"
             },
             "font": {
              "color": "#000036"
             },
             "line": {
              "color": "#000039"
             }
            },
            "type": "table"
           }
          ],
          "waterfall": [
           {
            "connector": {
             "line": {
              "color": "#000036",
              "width": 2
             }
            },
            "decreasing": {
             "marker": {
              "color": "#000033"
             }
            },
            "increasing": {
             "marker": {
              "color": "#000032"
             }
            },
            "totals": {
             "marker": {
              "color": "#000034"
             }
            },
            "type": "waterfall"
           }
          ]
         },
         "layout": {
          "coloraxis": {
           "colorscale": [
            [
             0,
             "#000011"
            ],
            [
             0.1111111111111111,
             "#000012"
            ],
            [
             0.2222222222222222,
             "#000013"
            ],
            [
             0.3333333333333333,
             "#000014"
            ],
            [
             0.4444444444444444,
             "#000015"
            ],
            [
             0.5555555555555556,
             "#000016"
            ],
            [
             0.6666666666666666,
             "#000017"
            ],
            [
             0.7777777777777778,
             "#000018"
            ],
            [
             0.8888888888888888,
             "#000019"
            ],
            [
             1,
             "#000020"
            ]
           ]
          },
          "colorscale": {
           "diverging": [
            [
             0,
             "#000021"
            ],
            [
             0.1,
             "#000022"
            ],
            [
             0.2,
             "#000023"
            ],
            [
             0.3,
             "#000024"
            ],
            [
             0.4,
             "#000025"
            ],
            [
             0.5,
             "#000026"
            ],
            [
             0.6,
             "#000027"
            ],
            [
             0.7,
             "#000028"
            ],
            [
             0.8,
             "#000029"
            ],
            [
             0.9,
             "#000030"
            ],
            [
             1,
             "#000031"
            ]
           ],
           "sequential": [
            [
             0,
             "#000011"
            ],
            [
             0.1111111111111111,
             "#000012"
            ],
            [
             0.2222222222222222,
             "#000013"
            ],
            [
             0.3333333333333333,
             "#000014"
            ],
            [
             0.4444444444444444,
             "#000015"
            ],
            [
             0.5555555555555556,
             "#000016"
            ],
            [
             0.6666666666666666,
             "#000017"
            ],
            [
             0.7777777777777778,
             "#000018"
            ],
            [
             0.8888888888888888,
             "#000019"
            ],
            [
             1,
             "#000020"
            ]
           ],
           "sequentialminus": [
            [
             0,
             "#000011"
            ],
            [
             0.1111111111111111,
             "#000012"
            ],
            [
             0.2222222222222222,
             "#000013"
            ],
            [
             0.3333333333333333,
             "#000014"
            ],
            [
             0.4444444444444444,
             "#000015"
            ],
            [
             0.5555555555555556,
             "#000016"
            ],
            [
             0.6666666666666666,
             "#000017"
            ],
            [
             0.7777777777777778,
             "#000018"
            ],
            [
             0.8888888888888888,
             "#000019"
            ],
            [
             1,
             "#000020"
            ]
           ]
          },
          "colorway": [
           "#000001",
           "#000002",
           "#000003",
           "#000004",
           "#000005",
           "#000006",
           "#000007",
           "#000008",
           "#000009",
           "#000010"
          ]
         }
        },
        "title": {
         "text": "Win Ratio: Top 5 vs Bottom 5 Teams",
         "x": 0.5,
         "xanchor": "center"
        },
        "width": 1100,
        "xaxis": {
         "anchor": "y",
         "autorange": true,
         "domain": [
          0,
          1
         ],
         "range": [
          -0.5,
          9.5
         ],
         "showgrid": false,
         "title": {
          "text": ""
         },
         "type": "category",
         "zeroline": false
        },
        "yaxis": {
         "anchor": "x",
         "autorange": true,
         "domain": [
          0,
          1
         ],
         "range": [
          0,
          0.7789473684210526
         ],
         "showgrid": false,
         "title": {
          "text": ""
         },
         "type": "linear",
         "zeroline": false
        }
       }
      },
      "image/png": "[encoded data removed]",
      "text/html": [
       "<div>                            <div id=\"7648a90d-f15b-495f-9491-1287f5c36ba6\" class=\"plotly-graph-div\" style=\"height:550px; width:1100px;\"></div>            <script type=\"text/javascript\">                require([\"plotly\"], function(Plotly) {                    window.PLOTLYENV=window.PLOTLYENV || {};                                    if (document.getElementById(\"7648a90d-f15b-495f-9491-1287f5c36ba6\")) {                    Plotly.newPlot(                        \"7648a90d-f15b-495f-9491-1287f5c36ba6\",                        [{\"alignmentgroup\":\"True\",\"hovertemplate\":\"Tier=Top 5\\u003cbr\\u003eteam_name=%{x}\\u003cbr\\u003ewin_ratio=%{text}\\u003cextra\\u003e\\u003c\\u002fextra\\u003e\",\"legendgroup\":\"Top 5\",\"marker\":{\"color\":\"rgb(3, 35, 51)\",\"pattern\":{\"shape\":\"\"}},\"name\":\"Top 5\",\"offsetgroup\":\"Top 5\",\"orientation\":\"v\",\"showlegend\":true,\"text\":[0.74,0.74,0.63,0.53,0.53],\"textposition\":\"outside\",\"x\":[\"Manchester City FC\",\"Arsenal FC\",\"Liverpool FC\",\"Aston Villa FC\",\"Tottenham Hotspur FC\"],\"xaxis\":\"x\",\"y\":[0.74,0.74,0.63,0.53,0.53],\"yaxis\":\"y\",\"type\":\"bar\"},{\"alignmentgroup\":\"True\",\"hovertemplate\":\"Tier=Bottom 5\\u003cbr\\u003eteam_name=%{x}\\u003cbr\\u003ewin_ratio=%{text}\\u003cextra\\u003e\\u003c\\u002fextra\\u003e\",\"legendgroup\":\"Bottom 5\",\"marker\":{\"color\":\"rgb(13, 48, 100)\",\"pattern\":{\"shape\":\"\"}},\"name\":\"Bottom 5\",\"offsetgroup\":\"Bottom 5\",\"orientation\":\"v\",\"showlegend\":true,\"text\":[0.26,0.24,0.16,0.13,0.08],\"textposition\":\"outside\",\"x\":[\"Brentford FC\",\"Nottingham Forest FC\",\"Luton Town FC\",\"Burnley FC\",\"Sheffield United FC\"],\"xaxis\":\"x\",\"y\":[0.26,0.24,0.16,0.13,0.08],\"yaxis\":\"y\",\"type\":\"bar\"}],                        {\"template\":{\"data\":{\"candlestick\":[{\"decreasing\":{\"line\":{\"color\":\"#000033\"}},\"increasing\":{\"line\":{\"color\":\"#000032\"}},\"type\":\"candlestick\"}],\"contourcarpet\":[{\"colorscale\":[[0.0,\"#000011\"],[0.1111111111111111,\"#000012\"],[0.2222222222222222,\"#000013\"],[0.3333333333333333,\"#000014\"],[0.4444444444444444,\"#000015\"],[0.5555555555555556,\"#000016\"],[0.6666666666666666,\"#000017\"],[0.7777777777777778,\"#000018\"],[0.8888888888888888,\"#000019\"],[1.0,\"#000020\"]],\"type\":\"contourcarpet\"}],\"contour\":[{\"colorscale\":[[0.0,\"#000011\"],[0.1111111111111111,\"#000012\"],[0.2222222222222222,\"#000013\"],[0.3333333333333333,\"#000014\"],[0.4444444444444444,\"#000015\"],[0.5555555555555556,\"#000016\"],[0.6666666666666666,\"#000017\"],[0.7777777777777778,\"#000018\"],[0.8888888888888888,\"#000019\"],[1.0,\"#000020\"]],\"type\":\"contour\"}],\"heatmap\":[{\"colorscale\":[[0.0,\"#000011\"],[0.1111111111111111,\"#000012\"],[0.2222222222222222,\"#000013\"],[0.3333333333333333,\"#000014\"],[0.4444444444444444,\"#000015\"],[0.5555555555555556,\"#000016\"],[0.6666666666666666,\"#000017\"],[0.7777777777777778,\"#000018\"],[0.8888888888888888,\"#000019\"],[1.0,\"#000020\"]],\"type\":\"heatmap\"}],\"histogram2d\":[{\"colorscale\":[[0.0,\"#000011\"],[0.1111111111111111,\"#000012\"],[0.2222222222222222,\"#000013\"],[0.3333333333333333,\"#000014\"],[0.4444444444444444,\"#000015\"],[0.5555555555555556,\"#000016\"],[0.6666666666666666,\"#000017\"],[0.7777777777777778,\"#000018\"],[0.8888888888888888,\"#000019\"],[1.0,\"#000020\"]],\"type\":\"histogram2d\"}],\"icicle\":[{\"textfont\":{\"color\":\"white\"},\"type\":\"icicle\"}],\"sankey\":[{\"textfont\":{\"color\":\"#000036\"},\"type\":\"sankey\"}],\"scatter\":[{\"marker\":{\"line\":{\"width\":0}},\"type\":\"scatter\"}],\"table\":[{\"cells\":{\"fill\":{\"color\":\"#000038\"},\"font\":{\"color\":\"#000037\"},\"line\":{\"color\":\"#000039\"}},\"header\":{\"fill\":{\"color\":\"#000040\"},\"font\":{\"color\":\"#000036\"},\"line\":{\"color\":\"#000039\"}},\"type\":\"table\"}],\"waterfall\":[{\"connector\":{\"line\":{\"color\":\"#000036\",\"width\":2}},\"decreasing\":{\"marker\":{\"color\":\"#000033\"}},\"increasing\":{\"marker\":{\"color\":\"#000032\"}},\"totals\":{\"marker\":{\"color\":\"#000034\"}},\"type\":\"waterfall\"}]},\"layout\":{\"coloraxis\":{\"colorscale\":[[0.0,\"#000011\"],[0.1111111111111111,\"#000012\"],[0.2222222222222222,\"#000013\"],[0.3333333333333333,\"#000014\"],[0.4444444444444444,\"#000015\"],[0.5555555555555556,\"#000016\"],[0.6666666666666666,\"#000017\"],[0.7777777777777778,\"#000018\"],[0.8888888888888888,\"#000019\"],[1.0,\"#000020\"]]},\"colorscale\":{\"diverging\":[[0.0,\"#000021\"],[0.1,\"#000022\"],[0.2,\"#000023\"],[0.3,\"#000024\"],[0.4,\"#000025\"],[0.5,\"#000026\"],[0.6,\"#000027\"],[0.7,\"#000028\"],[0.8,\"#000029\"],[0.9,\"#000030\"],[1.0,\"#000031\"]],\"sequential\":[[0.0,\"#000011\"],[0.1111111111111111,\"#000012\"],[0.2222222222222222,\"#000013\"],[0.3333333333333333,\"#000014\"],[0.4444444444444444,\"#000015\"],[0.5555555555555556,\"#000016\"],[0.6666666666666666,\"#000017\"],[0.7777777777777778,\"#000018\"],[0.8888888888888888,\"#000019\"],[1.0,\"#000020\"]],\"sequentialminus\":[[0.0,\"#000011\"],[0.1111111111111111,\"#000012\"],[0.2222222222222222,\"#000013\"],[0.3333333333333333,\"#000014\"],[0.4444444444444444,\"#000015\"],[0.5555555555555556,\"#000016\"],[0.6666666666666666,\"#000017\"],[0.7777777777777778,\"#000018\"],[0.8888888888888888,\"#000019\"],[1.0,\"#000020\"]]},\"colorway\":[\"#000001\",\"#000002\",\"#000003\",\"#000004\",\"#000005\",\"#000006\",\"#000007\",\"#000008\",\"#000009\",\"#000010\"]}},\"xaxis\":{\"anchor\":\"y\",\"domain\":[0.0,1.0],\"title\":{\"text\":\"\"},\"showgrid\":false,\"zeroline\":false},\"yaxis\":{\"anchor\":\"x\",\"domain\":[0.0,1.0],\"title\":{\"text\":\"\"},\"showgrid\":false,\"zeroline\":false},\"legend\":{\"title\":{\"text\":\"Tier\"},\"tracegroupgap\":0},\"margin\":{\"t\":60},\"barmode\":\"relative\",\"height\":550,\"width\":1100,\"title\":{\"text\":\"Win Ratio: Top 5 vs Bottom 5 Teams\",\"x\":0.5,\"xanchor\":\"center\"},\"plot_bgcolor\":\"#E6E1D3\",\"showlegend\":false,\"paper_bgcolor\":\"#E6E1D3\"},                        {\"responsive\": true}                    ).then(function(){\n",
       "                            \n",
       "var gd = document.getElementById('7648a90d-f15b-495f-9491-1287f5c36ba6');\n",
       "var x = new MutationObserver(function (mutations, observer) {{\n",
       "        var display = window.getComputedStyle(gd).display;\n",
       "        if (!display || display === 'none') {{\n",
       "            console.log([gd, 'removed!']);\n",
       "            Plotly.purge(gd);\n",
       "            observer.disconnect();\n",
       "        }}\n",
       "}});\n",
       "\n",
       "// Listen for the removal of the full notebook cells\n",
       "var notebookContainer = gd.closest('#notebook-container');\n",
       "if (notebookContainer) {{\n",
       "    x.observe(notebookContainer, {childList: true});\n",
       "}}\n",
       "\n",
       "// Listen for the clearing of the current output cell\n",
       "var outputEl = gd.closest('.output');\n",
       "if (outputEl) {{\n",
       "    x.observe(outputEl, {childList: true});\n",
       "}}\n",
       "\n",
       "                        })                };                });            </script>        </div>"
      ]
     },
     "metadata": {},
     "output_type": "display_data"
    }
   ],
   "source": [
    "\n",
    "\n",
    "teams_sorted = team_stats.sort_values(by='points', ascending=False)\n",
    "\n",
    "# Top and bottom 5\n",
    "top_5 = teams_sorted.head(5)\n",
    "bottom_5 = teams_sorted.tail(5)\n",
    "\n",
    "# Combine for comparison\n",
    "compare_df = pd.concat([top_5, bottom_5])\n",
    "compare_df['Tier'] = ['Top 5'] * 5 + ['Bottom 5'] * 5\n",
    "\n",
    "# Bar plot\n",
    "fig = px.bar(\n",
    "    compare_df,\n",
    "    x='team_name',\n",
    "    y='win_ratio',\n",
    "    color='Tier',\n",
    "    text='win_ratio',\n",
    "    width= 1100,\n",
    "    height= 550,\n",
    "    color_discrete_sequence=px.colors.sequential.thermal\n",
    "    )\n",
    "\n",
    "fig.update_traces(textposition='outside')\n",
    "fig.update_layout(\n",
    "    title={'text':'Win Ratio: Top 5 vs Bottom 5 Teams', 'x':0.5, 'xanchor': 'center'},\n",
    "    xaxis=dict(title='', showgrid=False, zeroline=False),\n",
    "    yaxis=dict(title='', showgrid=False, zeroline=False),\n",
    "    plot_bgcolor='#E6E1D3',\n",
    "    showlegend=False,\n",
    "    paper_bgcolor='#E6E1D3',\n",
    ")\n",
    "fig.show()"
   ]
  },
  {
   "cell_type": "markdown",
   "id": "ec3c57c9-2c47-4d28-b3c6-66bb5f1b8cc6",
   "metadata": {},
   "source": [
    "- Is there a relationship between goal scoring and league standing?"
   ]
  },
  {
   "cell_type": "code",
   "execution_count": null,
   "id": "6e7229d3-feae-45ea-94aa-37e1da8e5fc5",
   "metadata": {},
   "outputs": [],
   "source": [
    "import plotly.express as px\n",
    "import plotly.graph_objects as go\n",
    "\n",
    "# Sort for labeling top teams\n",
    "top_teams = team_stats.sort_values(by='points', ascending=False).head(5)\n",
    "\n",
    "fig = px.scatter(\n",
    "    team_stats,\n",
    "    x='goalsFor',\n",
    "    y='points',\n",
    "\n",
    "    color='points',\n",
    "    color_continuous_scale=px.colors.sequential.Plasma,\n",
    "    size='wins',  # Optional: size points by number of wins\n",
    "    width=1100,\n",
    "    height=600\n",
    ")\n",
    "\n",
    "fig.update_traces(\n",
    "    marker=dict(opacity=0.85, line=dict(width=1, color='DarkSlateGrey')),\n",
    "    textposition='top center'\n",
    ")\n",
    "\n",
    "fig.update_layout(\n",
    "    title={\n",
    "        'text': ' Goals Scored vs League Points – Is Attack the Best Strategy?',\n",
    "        'x': 0.5,\n",
    "        'xanchor': 'center',\n",
    "        'font': dict(size=22, family='Helvetica', color='#222')\n",
    "    },\n",
    "    xaxis=dict(\n",
    "        title='Goals Scored',\n",
    "        showgrid=True,\n",
    "        zeroline=False,\n",
    "        ticks='outside',\n",
    "        tickfont=dict(size=14)\n",
    "    ),\n",
    "    yaxis=dict(\n",
    "        title='League Points',\n",
    "        showgrid=True,\n",
    "        zeroline=False,\n",
    "        ticks='outside',\n",
    "        tickfont=dict(size=14)\n",
    "    ),\n",
    "    coloraxis_colorbar=dict(\n",
    "        title='Points',\n",
    "        ticks='outside'\n",
    "    ),\n",
    "    plot_bgcolor='#E6E1D3',\n",
    "    paper_bgcolor='#E6E1D3',\n",
    "    font=dict(family='Arial', size=12, color='#333'),\n",
    "    hoverlabel=dict(bgcolor='white', font_size=13, font_family='Arial'),\n",
    "    showlegend=False\n",
    ")\n",
    "\n",
    "\n",
    "\n",
    "fig.show()\n"
   ]
  },
  {
   "cell_type": "markdown",
   "id": "41afe654-590f-4eb7-b277-7ad8a929c42f",
   "metadata": {},
   "source": [
    "- Compare offensive vs defensive teams visually (scatter plot)"
   ]
  },
  {
   "cell_type": "code",
   "execution_count": null,
   "id": "41431e91-0855-490f-9331-3f09d7faed85",
   "metadata": {},
   "outputs": [],
   "source": [
    "avg_scored = team_stats['avg_goals_scored'].mean()\n",
    "avg_conceded = team_stats['avg_goals_conceded'].mean()\n",
    "\n",
    "fig = sns.scatterplot(\n",
    "    team_stats,\n",
    "    x='avg_goals_scored',\n",
    "    y='avg_goals_conceded',\n",
    ")\n",
    "plt.show()"
   ]
  },
  {
   "cell_type": "code",
   "execution_count": null,
   "id": "b020ce8a-745b-40c5-af67-f90f37722ab1",
   "metadata": {},
   "outputs": [],
   "source": [
    "import plotly.express as px\n",
    "import plotly.graph_objects as go\n",
    "\n",
    "# Calculate league averages\n",
    "avg_scored = team_stats['avg_goals_scored'].mean()\n",
    "avg_conceded = team_stats['avg_goals_conceded'].mean()\n",
    "\n",
    "fig = px.scatter(\n",
    "    team_stats,\n",
    "    x='avg_goals_scored',\n",
    "    y='avg_goals_conceded',\n",
    "    color_continuous_scale=px.colors.sequential.Greys,\n",
    "    width=1100,\n",
    "    height=600,\n",
    "    color='points'\n",
    ")\n",
    "\n",
    "# Add league average lines\n",
    "fig.add_shape(\n",
    "    type='line',\n",
    "    x0=avg_scored, x1=avg_scored,\n",
    "    y0=team_stats['avg_goals_conceded'].min(), y1=team_stats['avg_goals_conceded'].max(),\n",
    "    line=dict(dash='dash', color='blue'),\n",
    "    name='Avg Goals Scored'\n",
    ")\n",
    "\n",
    "fig.add_shape(\n",
    "    type='line',\n",
    "    x0=team_stats['avg_goals_scored'].min(), x1=team_stats['avg_goals_scored'].max(),\n",
    "    y0=avg_conceded, y1=avg_conceded,\n",
    "    line=dict(dash='dash', color='red'),\n",
    "    name='Avg Goals Conceded'\n",
    ")\n",
    "\n",
    "# Customize layout and title\n",
    "fig.update_traces(\n",
    "    marker=dict(opacity=0.8, line=dict(width=1, color='DarkSlateGrey')),\n",
    "    textposition='top center'\n",
    ")\n",
    "\n",
    "fig.update_layout(\n",
    "    title={\n",
    "        'text': ' Offensive vs Defensive Balance – Where Does Each Team Stand?',\n",
    "        'x': 0.5,\n",
    "        'xanchor': 'center',\n",
    "        'font': dict(size=22)\n",
    "    },\n",
    "    xaxis=dict(\n",
    "        title='Avg Goals Scored per Match',\n",
    "        showgrid=True,\n",
    "        zeroline=False\n",
    "    ),\n",
    "    yaxis=dict(\n",
    "        title='Avg Goals Conceded per Match',\n",
    "        showgrid=True,\n",
    "        zeroline=False\n",
    "    ),\n",
    "    plot_bgcolor='white',\n",
    "    paper_bgcolor='white',\n",
    "    font=dict(family='Arial', size=13),\n",
    "    showlegend=False\n",
    ")\n",
    "\n",
    "# Annotate quadrants for interpretation\n",
    "fig.add_annotation(\n",
    "    x=avg_scored + 0.15,\n",
    "    y=avg_conceded + 0.15,\n",
    "    text=\"Leaky but Attacking\",\n",
    "    showarrow=False,\n",
    "    font=dict(color='gray')\n",
    ")\n",
    "fig.add_annotation(\n",
    "    x=avg_scored + 0.15,\n",
    "    y=avg_conceded - 0.15,\n",
    "    text=\"Strong Offense & Defense\",\n",
    "    showarrow=False,\n",
    "    font=dict(color='darkgreen')\n",
    ")\n",
    "fig.add_annotation(\n",
    "    x=avg_scored - 0.3,\n",
    "    y=avg_conceded + 0.15,\n",
    "    text=\" Weak Defense & Attack\",\n",
    "    showarrow=False,\n",
    "    font=dict(color='gray')\n",
    ")\n",
    "fig.add_annotation(\n",
    "    x=avg_scored - 0.3,\n",
    "    y=avg_conceded - 0.15,\n",
    "    text=\"Solid Defense, Low Scoring\",\n",
    "    showarrow=False,\n",
    "    font=dict(color='darkblue')\n",
    ")\n",
    "\n",
    "fig.show()\n"
   ]
  },
  {
   "cell_type": "code",
   "execution_count": null,
   "id": "fbb654f9-1d4a-45cf-98de-8f85ab30151e",
   "metadata": {},
   "outputs": [],
   "source": []
  },
  {
   "cell_type": "markdown",
   "id": "ac73a9c7-b0c2-485a-ab73-13e867be6bf3",
   "metadata": {},
   "source": [
    "## 📈 Summary of Insights\n",
    "\n",
    "- Most matches ended in a 1 - 1 scoreline.\n",
    "- Manchester City had the highest total goals, while Sheffield United FC conceded the most.\n",
    "- Home teams won approximately 46% of matches, showing a clear home-field advantage.\n",
    "- Matchday 22 had a spike in goals, possibly due to derby or holiday fixtures.\n",
    "- The Most Effiecient Goalscorer is M. Olise with 19 appearances and 10 goals.\n",
    "- Manchester City FC (2.39) has the most points per game.\n",
    "- Arsenal has the best defense in the league, Manchester City FC has the best offense.\n",
    "- There is a strong correlation (0.97) between goal difference and points."
   ]
  },
  {
   "cell_type": "code",
   "execution_count": 459,
   "id": "8c5811ef-e546-46c9-9dca-bee6d3749d25",
   "metadata": {},
   "outputs": [
    {
     "data": {
      "text/html": [
       "<div>\n",
       "<style scoped>\n",
       "    .dataframe tbody tr th:only-of-type {\n",
       "        vertical-align: middle;\n",
       "    }\n",
       "\n",
       "    .dataframe tbody tr th {\n",
       "        vertical-align: top;\n",
       "    }\n",
       "\n",
       "    .dataframe thead th {\n",
       "        text-align: right;\n",
       "    }\n",
       "</style>\n",
       "<table border=\"1\" class=\"dataframe\">\n",
       "  <thead>\n",
       "    <tr style=\"text-align: right;\">\n",
       "      <th></th>\n",
       "      <th>match_id</th>\n",
       "      <th>date</th>\n",
       "      <th>match_status</th>\n",
       "      <th>matchday</th>\n",
       "      <th>stage</th>\n",
       "      <th>home_team</th>\n",
       "      <th>away_team</th>\n",
       "      <th>home_goals</th>\n",
       "      <th>away_goals</th>\n",
       "      <th>result</th>\n",
       "      <th>goal_difference</th>\n",
       "      <th>total_goals</th>\n",
       "      <th>is_draw</th>\n",
       "      <th>home_win</th>\n",
       "      <th>away_win</th>\n",
       "      <th>scoreline</th>\n",
       "    </tr>\n",
       "  </thead>\n",
       "  <tbody>\n",
       "    <tr>\n",
       "      <th>0</th>\n",
       "      <td>435943</td>\n",
       "      <td>2023-08-11 19:00:00+00:00</td>\n",
       "      <td>FINISHED</td>\n",
       "      <td>1</td>\n",
       "      <td>REGULAR_SEASON</td>\n",
       "      <td>Burnley FC</td>\n",
       "      <td>Manchester City FC</td>\n",
       "      <td>0</td>\n",
       "      <td>3</td>\n",
       "      <td>A</td>\n",
       "      <td>-3</td>\n",
       "      <td>3</td>\n",
       "      <td>False</td>\n",
       "      <td>False</td>\n",
       "      <td>True</td>\n",
       "      <td>0 - 3</td>\n",
       "    </tr>\n",
       "    <tr>\n",
       "      <th>1</th>\n",
       "      <td>435944</td>\n",
       "      <td>2023-08-12 12:00:00+00:00</td>\n",
       "      <td>FINISHED</td>\n",
       "      <td>1</td>\n",
       "      <td>REGULAR_SEASON</td>\n",
       "      <td>Arsenal FC</td>\n",
       "      <td>Nottingham Forest FC</td>\n",
       "      <td>2</td>\n",
       "      <td>1</td>\n",
       "      <td>H</td>\n",
       "      <td>1</td>\n",
       "      <td>3</td>\n",
       "      <td>False</td>\n",
       "      <td>True</td>\n",
       "      <td>False</td>\n",
       "      <td>2 - 1</td>\n",
       "    </tr>\n",
       "    <tr>\n",
       "      <th>2</th>\n",
       "      <td>435945</td>\n",
       "      <td>2023-08-12 14:00:00+00:00</td>\n",
       "      <td>FINISHED</td>\n",
       "      <td>1</td>\n",
       "      <td>REGULAR_SEASON</td>\n",
       "      <td>AFC Bournemouth</td>\n",
       "      <td>West Ham United FC</td>\n",
       "      <td>1</td>\n",
       "      <td>1</td>\n",
       "      <td>D</td>\n",
       "      <td>0</td>\n",
       "      <td>2</td>\n",
       "      <td>True</td>\n",
       "      <td>False</td>\n",
       "      <td>False</td>\n",
       "      <td>1 - 1</td>\n",
       "    </tr>\n",
       "    <tr>\n",
       "      <th>3</th>\n",
       "      <td>435946</td>\n",
       "      <td>2023-08-12 14:00:00+00:00</td>\n",
       "      <td>FINISHED</td>\n",
       "      <td>1</td>\n",
       "      <td>REGULAR_SEASON</td>\n",
       "      <td>Brighton &amp; Hove Albion FC</td>\n",
       "      <td>Luton Town FC</td>\n",
       "      <td>4</td>\n",
       "      <td>1</td>\n",
       "      <td>H</td>\n",
       "      <td>3</td>\n",
       "      <td>5</td>\n",
       "      <td>False</td>\n",
       "      <td>True</td>\n",
       "      <td>False</td>\n",
       "      <td>4 - 1</td>\n",
       "    </tr>\n",
       "    <tr>\n",
       "      <th>4</th>\n",
       "      <td>435947</td>\n",
       "      <td>2023-08-12 14:00:00+00:00</td>\n",
       "      <td>FINISHED</td>\n",
       "      <td>1</td>\n",
       "      <td>REGULAR_SEASON</td>\n",
       "      <td>Everton FC</td>\n",
       "      <td>Fulham FC</td>\n",
       "      <td>0</td>\n",
       "      <td>1</td>\n",
       "      <td>A</td>\n",
       "      <td>-1</td>\n",
       "      <td>1</td>\n",
       "      <td>False</td>\n",
       "      <td>False</td>\n",
       "      <td>True</td>\n",
       "      <td>0 - 1</td>\n",
       "    </tr>\n",
       "  </tbody>\n",
       "</table>\n",
       "</div>"
      ],
      "text/plain": [
       "   match_id                       date match_status  matchday           stage  \\\n",
       "0    435943  2023-08-11 19:00:00+00:00     FINISHED         1  REGULAR_SEASON   \n",
       "1    435944  2023-08-12 12:00:00+00:00     FINISHED         1  REGULAR_SEASON   \n",
       "2    435945  2023-08-12 14:00:00+00:00     FINISHED         1  REGULAR_SEASON   \n",
       "3    435946  2023-08-12 14:00:00+00:00     FINISHED         1  REGULAR_SEASON   \n",
       "4    435947  2023-08-12 14:00:00+00:00     FINISHED         1  REGULAR_SEASON   \n",
       "\n",
       "                   home_team             away_team  home_goals  away_goals  \\\n",
       "0                 Burnley FC    Manchester City FC           0           3   \n",
       "1                 Arsenal FC  Nottingham Forest FC           2           1   \n",
       "2            AFC Bournemouth    West Ham United FC           1           1   \n",
       "3  Brighton & Hove Albion FC         Luton Town FC           4           1   \n",
       "4                 Everton FC             Fulham FC           0           1   \n",
       "\n",
       "  result  goal_difference  total_goals  is_draw  home_win  away_win scoreline  \n",
       "0      A               -3            3    False     False      True     0 - 3  \n",
       "1      H                1            3    False      True     False     2 - 1  \n",
       "2      D                0            2     True     False     False     1 - 1  \n",
       "3      H                3            5    False      True     False     4 - 1  \n",
       "4      A               -1            1    False     False      True     0 - 1  "
      ]
     },
     "execution_count": 459,
     "metadata": {},
     "output_type": "execute_result"
    }
   ],
   "source": [
    "matches_df.head()"
   ]
  },
  {
   "cell_type": "code",
   "execution_count": 460,
   "id": "8a2a931a-c694-410f-b2de-d148fd0e4e18",
   "metadata": {},
   "outputs": [],
   "source": [
    "matches_df.drop(columns = ['match_status','stage','match_id'], inplace=True)"
   ]
  },
  {
   "cell_type": "code",
   "execution_count": 480,
   "id": "1761e1a5-7baa-4018-b29a-5aa84794833d",
   "metadata": {},
   "outputs": [],
   "source": [
    "matches_df.to_csv('../data/matches_clean.csv',index=None)\n",
    "team_stats.to_csv('../data/team_stats.csv', index=None)"
   ]
  },
  {
   "cell_type": "code",
   "execution_count": 462,
   "id": "d0c55b01-17e4-4e89-9e59-ceb3c11441af",
   "metadata": {},
   "outputs": [],
   "source": [
    "scorers = team_player_stats.sort_values(by='goals', ascending=False).reset_index()\n"
   ]
  },
  {
   "cell_type": "code",
   "execution_count": null,
   "id": "52d5ffd2-8160-465b-9011-aa1653ee6ae3",
   "metadata": {},
   "outputs": [],
   "source": [
    "scorers = scorers.drop('index', axis=1)\n"
   ]
  },
  {
   "cell_type": "code",
   "execution_count": 470,
   "id": "75f3474b-d135-424f-9df4-b57d98594dc5",
   "metadata": {},
   "outputs": [],
   "source": [
    "scorers.to_csv('../data/scorers.csv',index=None)"
   ]
  },
  {
   "cell_type": "code",
   "execution_count": 464,
   "id": "d5a6d97f-fb86-4198-812d-a4c0db28984c",
   "metadata": {},
   "outputs": [
    {
     "data": {
      "text/plain": [
       "Index(['date', 'matchday', 'home_team', 'away_team', 'home_goals',\n",
       "       'away_goals', 'result', 'goal_difference', 'total_goals', 'is_draw',\n",
       "       'home_win', 'away_win', 'scoreline'],\n",
       "      dtype='object')"
      ]
     },
     "execution_count": 464,
     "metadata": {},
     "output_type": "execute_result"
    }
   ],
   "source": [
    "matches_df.columns"
   ]
  },
  {
   "cell_type": "code",
   "execution_count": 465,
   "id": "69405c30-d05e-441e-ac95-052d8383d228",
   "metadata": {},
   "outputs": [
    {
     "data": {
      "text/plain": [
       "Index(['name', 'age', 'nationality', 'team', 'position', 'appearances',\n",
       "       'starts', 'minutes', 'goals', 'assists', 'total_passes',\n",
       "       'penalty_goals', 'yellow_card', 'red_card', 'team_id',\n",
       "       'total_team_goals', 'goals_per_match', 'non_penalty_goals',\n",
       "       'goal_contribution', 'minutes_per_goal', 'goal_contribution_ratio'],\n",
       "      dtype='object')"
      ]
     },
     "execution_count": 465,
     "metadata": {},
     "output_type": "execute_result"
    }
   ],
   "source": [
    "scorers.columns"
   ]
  },
  {
   "cell_type": "code",
   "execution_count": 479,
   "id": "db0affd7-7c87-470d-92a9-bf8be1a40418",
   "metadata": {},
   "outputs": [
    {
     "data": {
      "text/plain": [
       "Index(['team_id', 'team_name', 'position', 'games_played', 'form', 'wins',\n",
       "       'draws', 'losses', 'points', 'goalsFor', 'goals_against',\n",
       "       'goal_difference', 'tla', 'win_ratio', 'loss_ratio', 'points_per_game',\n",
       "       'avg_goals_scored', 'avg_goals_conceded'],\n",
       "      dtype='object')"
      ]
     },
     "execution_count": 479,
     "metadata": {},
     "output_type": "execute_result"
    }
   ],
   "source": [
    "team_stats.columns"
   ]
  },
  {
   "cell_type": "code",
   "execution_count": 467,
   "id": "fba27575-11c2-4ac2-8058-f3e95d0296a3",
   "metadata": {},
   "outputs": [
    {
     "data": {
      "text/html": [
       "<div>\n",
       "<style scoped>\n",
       "    .dataframe tbody tr th:only-of-type {\n",
       "        vertical-align: middle;\n",
       "    }\n",
       "\n",
       "    .dataframe tbody tr th {\n",
       "        vertical-align: top;\n",
       "    }\n",
       "\n",
       "    .dataframe thead th {\n",
       "        text-align: right;\n",
       "    }\n",
       "</style>\n",
       "<table border=\"1\" class=\"dataframe\">\n",
       "  <thead>\n",
       "    <tr style=\"text-align: right;\">\n",
       "      <th></th>\n",
       "      <th>date</th>\n",
       "      <th>matchday</th>\n",
       "      <th>home_team</th>\n",
       "      <th>away_team</th>\n",
       "      <th>home_goals</th>\n",
       "      <th>away_goals</th>\n",
       "      <th>result</th>\n",
       "      <th>goal_difference</th>\n",
       "      <th>total_goals</th>\n",
       "      <th>is_draw</th>\n",
       "      <th>home_win</th>\n",
       "      <th>away_win</th>\n",
       "      <th>scoreline</th>\n",
       "    </tr>\n",
       "  </thead>\n",
       "  <tbody>\n",
       "    <tr>\n",
       "      <th>0</th>\n",
       "      <td>2023-08-11 19:00:00+00:00</td>\n",
       "      <td>1</td>\n",
       "      <td>Burnley FC</td>\n",
       "      <td>Manchester City FC</td>\n",
       "      <td>0</td>\n",
       "      <td>3</td>\n",
       "      <td>A</td>\n",
       "      <td>-3</td>\n",
       "      <td>3</td>\n",
       "      <td>False</td>\n",
       "      <td>False</td>\n",
       "      <td>True</td>\n",
       "      <td>0 - 3</td>\n",
       "    </tr>\n",
       "    <tr>\n",
       "      <th>1</th>\n",
       "      <td>2023-08-12 12:00:00+00:00</td>\n",
       "      <td>1</td>\n",
       "      <td>Arsenal FC</td>\n",
       "      <td>Nottingham Forest FC</td>\n",
       "      <td>2</td>\n",
       "      <td>1</td>\n",
       "      <td>H</td>\n",
       "      <td>1</td>\n",
       "      <td>3</td>\n",
       "      <td>False</td>\n",
       "      <td>True</td>\n",
       "      <td>False</td>\n",
       "      <td>2 - 1</td>\n",
       "    </tr>\n",
       "    <tr>\n",
       "      <th>2</th>\n",
       "      <td>2023-08-12 14:00:00+00:00</td>\n",
       "      <td>1</td>\n",
       "      <td>AFC Bournemouth</td>\n",
       "      <td>West Ham United FC</td>\n",
       "      <td>1</td>\n",
       "      <td>1</td>\n",
       "      <td>D</td>\n",
       "      <td>0</td>\n",
       "      <td>2</td>\n",
       "      <td>True</td>\n",
       "      <td>False</td>\n",
       "      <td>False</td>\n",
       "      <td>1 - 1</td>\n",
       "    </tr>\n",
       "    <tr>\n",
       "      <th>3</th>\n",
       "      <td>2023-08-12 14:00:00+00:00</td>\n",
       "      <td>1</td>\n",
       "      <td>Brighton &amp; Hove Albion FC</td>\n",
       "      <td>Luton Town FC</td>\n",
       "      <td>4</td>\n",
       "      <td>1</td>\n",
       "      <td>H</td>\n",
       "      <td>3</td>\n",
       "      <td>5</td>\n",
       "      <td>False</td>\n",
       "      <td>True</td>\n",
       "      <td>False</td>\n",
       "      <td>4 - 1</td>\n",
       "    </tr>\n",
       "    <tr>\n",
       "      <th>4</th>\n",
       "      <td>2023-08-12 14:00:00+00:00</td>\n",
       "      <td>1</td>\n",
       "      <td>Everton FC</td>\n",
       "      <td>Fulham FC</td>\n",
       "      <td>0</td>\n",
       "      <td>1</td>\n",
       "      <td>A</td>\n",
       "      <td>-1</td>\n",
       "      <td>1</td>\n",
       "      <td>False</td>\n",
       "      <td>False</td>\n",
       "      <td>True</td>\n",
       "      <td>0 - 1</td>\n",
       "    </tr>\n",
       "    <tr>\n",
       "      <th>...</th>\n",
       "      <td>...</td>\n",
       "      <td>...</td>\n",
       "      <td>...</td>\n",
       "      <td>...</td>\n",
       "      <td>...</td>\n",
       "      <td>...</td>\n",
       "      <td>...</td>\n",
       "      <td>...</td>\n",
       "      <td>...</td>\n",
       "      <td>...</td>\n",
       "      <td>...</td>\n",
       "      <td>...</td>\n",
       "      <td>...</td>\n",
       "    </tr>\n",
       "    <tr>\n",
       "      <th>375</th>\n",
       "      <td>2024-05-19 15:00:00+00:00</td>\n",
       "      <td>38</td>\n",
       "      <td>Crystal Palace FC</td>\n",
       "      <td>Aston Villa FC</td>\n",
       "      <td>5</td>\n",
       "      <td>0</td>\n",
       "      <td>H</td>\n",
       "      <td>5</td>\n",
       "      <td>5</td>\n",
       "      <td>False</td>\n",
       "      <td>True</td>\n",
       "      <td>False</td>\n",
       "      <td>5 - 0</td>\n",
       "    </tr>\n",
       "    <tr>\n",
       "      <th>376</th>\n",
       "      <td>2024-05-19 15:00:00+00:00</td>\n",
       "      <td>38</td>\n",
       "      <td>Liverpool FC</td>\n",
       "      <td>Wolverhampton Wanderers FC</td>\n",
       "      <td>2</td>\n",
       "      <td>0</td>\n",
       "      <td>H</td>\n",
       "      <td>2</td>\n",
       "      <td>2</td>\n",
       "      <td>False</td>\n",
       "      <td>True</td>\n",
       "      <td>False</td>\n",
       "      <td>2 - 0</td>\n",
       "    </tr>\n",
       "    <tr>\n",
       "      <th>377</th>\n",
       "      <td>2024-05-19 15:00:00+00:00</td>\n",
       "      <td>38</td>\n",
       "      <td>Luton Town FC</td>\n",
       "      <td>Fulham FC</td>\n",
       "      <td>2</td>\n",
       "      <td>4</td>\n",
       "      <td>A</td>\n",
       "      <td>-2</td>\n",
       "      <td>6</td>\n",
       "      <td>False</td>\n",
       "      <td>False</td>\n",
       "      <td>True</td>\n",
       "      <td>2 - 4</td>\n",
       "    </tr>\n",
       "    <tr>\n",
       "      <th>378</th>\n",
       "      <td>2024-05-19 15:00:00+00:00</td>\n",
       "      <td>38</td>\n",
       "      <td>Manchester City FC</td>\n",
       "      <td>West Ham United FC</td>\n",
       "      <td>3</td>\n",
       "      <td>1</td>\n",
       "      <td>H</td>\n",
       "      <td>2</td>\n",
       "      <td>4</td>\n",
       "      <td>False</td>\n",
       "      <td>True</td>\n",
       "      <td>False</td>\n",
       "      <td>3 - 1</td>\n",
       "    </tr>\n",
       "    <tr>\n",
       "      <th>379</th>\n",
       "      <td>2024-05-19 15:00:00+00:00</td>\n",
       "      <td>38</td>\n",
       "      <td>Sheffield United FC</td>\n",
       "      <td>Tottenham Hotspur FC</td>\n",
       "      <td>0</td>\n",
       "      <td>3</td>\n",
       "      <td>A</td>\n",
       "      <td>-3</td>\n",
       "      <td>3</td>\n",
       "      <td>False</td>\n",
       "      <td>False</td>\n",
       "      <td>True</td>\n",
       "      <td>0 - 3</td>\n",
       "    </tr>\n",
       "  </tbody>\n",
       "</table>\n",
       "<p>380 rows × 13 columns</p>\n",
       "</div>"
      ],
      "text/plain": [
       "                          date  matchday                  home_team  \\\n",
       "0    2023-08-11 19:00:00+00:00         1                 Burnley FC   \n",
       "1    2023-08-12 12:00:00+00:00         1                 Arsenal FC   \n",
       "2    2023-08-12 14:00:00+00:00         1            AFC Bournemouth   \n",
       "3    2023-08-12 14:00:00+00:00         1  Brighton & Hove Albion FC   \n",
       "4    2023-08-12 14:00:00+00:00         1                 Everton FC   \n",
       "..                         ...       ...                        ...   \n",
       "375  2024-05-19 15:00:00+00:00        38          Crystal Palace FC   \n",
       "376  2024-05-19 15:00:00+00:00        38               Liverpool FC   \n",
       "377  2024-05-19 15:00:00+00:00        38              Luton Town FC   \n",
       "378  2024-05-19 15:00:00+00:00        38         Manchester City FC   \n",
       "379  2024-05-19 15:00:00+00:00        38        Sheffield United FC   \n",
       "\n",
       "                      away_team  home_goals  away_goals result  \\\n",
       "0            Manchester City FC           0           3      A   \n",
       "1          Nottingham Forest FC           2           1      H   \n",
       "2            West Ham United FC           1           1      D   \n",
       "3                 Luton Town FC           4           1      H   \n",
       "4                     Fulham FC           0           1      A   \n",
       "..                          ...         ...         ...    ...   \n",
       "375              Aston Villa FC           5           0      H   \n",
       "376  Wolverhampton Wanderers FC           2           0      H   \n",
       "377                   Fulham FC           2           4      A   \n",
       "378          West Ham United FC           3           1      H   \n",
       "379        Tottenham Hotspur FC           0           3      A   \n",
       "\n",
       "     goal_difference  total_goals  is_draw  home_win  away_win scoreline  \n",
       "0                 -3            3    False     False      True     0 - 3  \n",
       "1                  1            3    False      True     False     2 - 1  \n",
       "2                  0            2     True     False     False     1 - 1  \n",
       "3                  3            5    False      True     False     4 - 1  \n",
       "4                 -1            1    False     False      True     0 - 1  \n",
       "..               ...          ...      ...       ...       ...       ...  \n",
       "375                5            5    False      True     False     5 - 0  \n",
       "376                2            2    False      True     False     2 - 0  \n",
       "377               -2            6    False     False      True     2 - 4  \n",
       "378                2            4    False      True     False     3 - 1  \n",
       "379               -3            3    False     False      True     0 - 3  \n",
       "\n",
       "[380 rows x 13 columns]"
      ]
     },
     "execution_count": 467,
     "metadata": {},
     "output_type": "execute_result"
    }
   ],
   "source": [
    "matches_df"
   ]
  },
  {
   "cell_type": "code",
   "execution_count": null,
   "id": "49b17b11-75cf-44e0-868f-e891a5bc951b",
   "metadata": {},
   "outputs": [],
   "source": []
  }
 ],
 "metadata": {
  "kernelspec": {
   "display_name": "Python 3 (ipykernel)",
   "language": "python",
   "name": "python3"
  },
  "language_info": {
   "codemirror_mode": {
    "name": "ipython",
    "version": 3
   },
   "file_extension": ".py",
   "mimetype": "text/x-python",
   "name": "python",
   "nbconvert_exporter": "python",
   "pygments_lexer": "ipython3",
   "version": "3.12.7"
  }
 },
 "nbformat": 4,
 "nbformat_minor": 5
}
